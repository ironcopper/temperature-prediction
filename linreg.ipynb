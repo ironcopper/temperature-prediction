{
 "cells": [
  {
   "cell_type": "markdown",
   "metadata": {},
   "source": [
    "# Temperature Prediction\n",
    "\n",
    "Build a simple linear regression model which predicts temperature based on daily records of it.\n",
    "\n",
    "\n",
    "## Data\n",
    "\n",
    "Daily Climate time series data given on [Kaggle](https://www.kaggle.com/datasets/sumanthvrao/daily-climate-time-series-data).\n",
    "\n",
    "## Libraries and loading data"
   ]
  },
  {
   "cell_type": "code",
   "execution_count": 146,
   "metadata": {},
   "outputs": [
    {
     "data": {
      "text/html": [
       "<div>\n",
       "<style scoped>\n",
       "    .dataframe tbody tr th:only-of-type {\n",
       "        vertical-align: middle;\n",
       "    }\n",
       "\n",
       "    .dataframe tbody tr th {\n",
       "        vertical-align: top;\n",
       "    }\n",
       "\n",
       "    .dataframe thead th {\n",
       "        text-align: right;\n",
       "    }\n",
       "</style>\n",
       "<table border=\"1\" class=\"dataframe\">\n",
       "  <thead>\n",
       "    <tr style=\"text-align: right;\">\n",
       "      <th></th>\n",
       "      <th>date</th>\n",
       "      <th>meantemp</th>\n",
       "      <th>humidity</th>\n",
       "      <th>wind_speed</th>\n",
       "      <th>meanpressure</th>\n",
       "    </tr>\n",
       "  </thead>\n",
       "  <tbody>\n",
       "    <tr>\n",
       "      <th>0</th>\n",
       "      <td>2017-01-01</td>\n",
       "      <td>15.913043</td>\n",
       "      <td>85.869565</td>\n",
       "      <td>2.743478</td>\n",
       "      <td>59.000000</td>\n",
       "    </tr>\n",
       "    <tr>\n",
       "      <th>1</th>\n",
       "      <td>2017-01-02</td>\n",
       "      <td>18.500000</td>\n",
       "      <td>77.222222</td>\n",
       "      <td>2.894444</td>\n",
       "      <td>1018.277778</td>\n",
       "    </tr>\n",
       "    <tr>\n",
       "      <th>2</th>\n",
       "      <td>2017-01-03</td>\n",
       "      <td>17.111111</td>\n",
       "      <td>81.888889</td>\n",
       "      <td>4.016667</td>\n",
       "      <td>1018.333333</td>\n",
       "    </tr>\n",
       "    <tr>\n",
       "      <th>3</th>\n",
       "      <td>2017-01-04</td>\n",
       "      <td>18.700000</td>\n",
       "      <td>70.050000</td>\n",
       "      <td>4.545000</td>\n",
       "      <td>1015.700000</td>\n",
       "    </tr>\n",
       "    <tr>\n",
       "      <th>4</th>\n",
       "      <td>2017-01-05</td>\n",
       "      <td>18.388889</td>\n",
       "      <td>74.944444</td>\n",
       "      <td>3.300000</td>\n",
       "      <td>1014.333333</td>\n",
       "    </tr>\n",
       "    <tr>\n",
       "      <th>...</th>\n",
       "      <td>...</td>\n",
       "      <td>...</td>\n",
       "      <td>...</td>\n",
       "      <td>...</td>\n",
       "      <td>...</td>\n",
       "    </tr>\n",
       "    <tr>\n",
       "      <th>109</th>\n",
       "      <td>2017-04-20</td>\n",
       "      <td>34.500000</td>\n",
       "      <td>27.500000</td>\n",
       "      <td>5.562500</td>\n",
       "      <td>998.625000</td>\n",
       "    </tr>\n",
       "    <tr>\n",
       "      <th>110</th>\n",
       "      <td>2017-04-21</td>\n",
       "      <td>34.250000</td>\n",
       "      <td>39.375000</td>\n",
       "      <td>6.962500</td>\n",
       "      <td>999.875000</td>\n",
       "    </tr>\n",
       "    <tr>\n",
       "      <th>111</th>\n",
       "      <td>2017-04-22</td>\n",
       "      <td>32.900000</td>\n",
       "      <td>40.900000</td>\n",
       "      <td>8.890000</td>\n",
       "      <td>1001.600000</td>\n",
       "    </tr>\n",
       "    <tr>\n",
       "      <th>112</th>\n",
       "      <td>2017-04-23</td>\n",
       "      <td>32.875000</td>\n",
       "      <td>27.500000</td>\n",
       "      <td>9.962500</td>\n",
       "      <td>1002.125000</td>\n",
       "    </tr>\n",
       "    <tr>\n",
       "      <th>113</th>\n",
       "      <td>2017-04-24</td>\n",
       "      <td>32.000000</td>\n",
       "      <td>27.142857</td>\n",
       "      <td>12.157143</td>\n",
       "      <td>1004.142857</td>\n",
       "    </tr>\n",
       "  </tbody>\n",
       "</table>\n",
       "<p>114 rows × 5 columns</p>\n",
       "</div>"
      ],
      "text/plain": [
       "           date   meantemp   humidity  wind_speed  meanpressure\n",
       "0    2017-01-01  15.913043  85.869565    2.743478     59.000000\n",
       "1    2017-01-02  18.500000  77.222222    2.894444   1018.277778\n",
       "2    2017-01-03  17.111111  81.888889    4.016667   1018.333333\n",
       "3    2017-01-04  18.700000  70.050000    4.545000   1015.700000\n",
       "4    2017-01-05  18.388889  74.944444    3.300000   1014.333333\n",
       "..          ...        ...        ...         ...           ...\n",
       "109  2017-04-20  34.500000  27.500000    5.562500    998.625000\n",
       "110  2017-04-21  34.250000  39.375000    6.962500    999.875000\n",
       "111  2017-04-22  32.900000  40.900000    8.890000   1001.600000\n",
       "112  2017-04-23  32.875000  27.500000    9.962500   1002.125000\n",
       "113  2017-04-24  32.000000  27.142857   12.157143   1004.142857\n",
       "\n",
       "[114 rows x 5 columns]"
      ]
     },
     "execution_count": 146,
     "metadata": {},
     "output_type": "execute_result"
    }
   ],
   "source": [
    "import warnings\n",
    "warnings.filterwarnings('ignore')\n",
    "\n",
    "import numpy as np \n",
    "import pandas as pd \n",
    "import matplotlib.pyplot as plt \n",
    "import seaborn as sns\n",
    "\n",
    "\n",
    "temperature = pd.read_csv(\"DailyDelhiClimate.csv\")\n",
    "temperature     \n"
   ]
  },
  {
   "cell_type": "code",
   "execution_count": 147,
   "metadata": {},
   "outputs": [
    {
     "data": {
      "text/plain": [
       "(114, 5)"
      ]
     },
     "execution_count": 147,
     "metadata": {},
     "output_type": "execute_result"
    }
   ],
   "source": [
    "temperature.shape       # (rows, columns)"
   ]
  },
  {
   "cell_type": "code",
   "execution_count": 148,
   "metadata": {},
   "outputs": [
    {
     "name": "stdout",
     "output_type": "stream",
     "text": [
      "date            0\n",
      "meantemp        0\n",
      "humidity        0\n",
      "wind_speed      0\n",
      "meanpressure    0\n",
      "dtype: int64\n"
     ]
    }
   ],
   "source": [
    "# checking for missing values if any\n",
    "print(temperature.isnull().sum())\n"
   ]
  },
  {
   "cell_type": "markdown",
   "metadata": {},
   "source": [
    "Hopefully, there is none. \n",
    "\n",
    "\n",
    "## Outliers \n",
    "\n",
    "Outliers are data points that significantly deviate from the rest of the data in the dataset. \n",
    "\n",
    "They can skew the results of the analysis and need to be identified and, treated appropriately. \n",
    "\n"
   ]
  },
  {
   "cell_type": "code",
   "execution_count": 149,
   "metadata": {},
   "outputs": [
    {
     "data": {
      "text/plain": [
       "{'whiskers': [<matplotlib.lines.Line2D at 0x2a45047c6d0>,\n",
       "  <matplotlib.lines.Line2D at 0x2a45047cf70>],\n",
       " 'caps': [<matplotlib.lines.Line2D at 0x2a44e1134c0>,\n",
       "  <matplotlib.lines.Line2D at 0x2a44fce3fa0>],\n",
       " 'boxes': [<matplotlib.lines.Line2D at 0x2a45047ca60>],\n",
       " 'medians': [<matplotlib.lines.Line2D at 0x2a450389580>],\n",
       " 'fliers': [<matplotlib.lines.Line2D at 0x2a450389730>],\n",
       " 'means': []}"
      ]
     },
     "execution_count": 149,
     "metadata": {},
     "output_type": "execute_result"
    },
    {
     "data": {
      "image/png": "[encoded data removed]",
      "text/plain": [
       "<Figure size 640x480 with 1 Axes>"
      ]
     },
     "metadata": {},
     "output_type": "display_data"
    }
   ],
   "source": [
    "# A boxplot visually displays the distribution of the data and identifies outliers as individual points beyond the whiskers\n",
    "plt.boxplot(temperature['meantemp'])  # target variable(or dependent variable)\n"
   ]
  },
  {
   "cell_type": "code",
   "execution_count": 150,
   "metadata": {},
   "outputs": [
    {
     "data": {
      "image/png": "[encoded data removed]",
      "text/plain": [
       "<Figure size 1200x400 with 3 Axes>"
      ]
     },
     "metadata": {},
     "output_type": "display_data"
    }
   ],
   "source": [
    "\n",
    "# visualising data\n",
    "sns.pairplot(temperature, x_vars=['humidity', 'meanpressure', 'wind_speed'], y_vars='meantemp', height=4, aspect=1, kind='scatter')\n",
    "plt.show()\n"
   ]
  },
  {
   "cell_type": "markdown",
   "metadata": {},
   "source": [
    "## Correlation matrix\n",
    "\n",
    "It provides a summary of the relationships between variables in a dataset by displaying the correlation coefficients between them. \n",
    "\n",
    "The correlation coefficient(r) ranges from -1 to 1, where:\n",
    "\n",
    "* r=1: Perfect positive correlation(as one variable increases, the other increases).\n",
    "\n",
    "* r=−1: Perfect negative correlation(while one variable increases, the other decreases).\n",
    "\n",
    "* r=0: No correlation (variables are independent of each other).\n"
   ]
  },
  {
   "cell_type": "code",
   "execution_count": 151,
   "metadata": {},
   "outputs": [
    {
     "data": {
      "image/png": "[encoded data removed]",
      "text/plain": [
       "<Figure size 640x480 with 2 Axes>"
      ]
     },
     "metadata": {},
     "output_type": "display_data"
    }
   ],
   "source": [
    "# checking the correlation between variables\n",
    "sns.heatmap(temperature.corr(), cmap=\"YlGnBu\", annot = True)\n",
    "plt.show()\n"
   ]
  },
  {
   "cell_type": "markdown",
   "metadata": {},
   "source": [
    "We can see \"humidity\" have a strong relationship with \"meantemp\" compared to other variables. So, it will be our feature variable. "
   ]
  },
  {
   "cell_type": "code",
   "execution_count": 152,
   "metadata": {},
   "outputs": [
    {
     "name": "stdout",
     "output_type": "stream",
     "text": [
      "X_train shape: (79,)\n",
      "X_test shape: (35,)\n",
      "y_train shape: (79,)\n",
      "y_test shape: (35,)\n"
     ]
    }
   ],
   "source": [
    "\n",
    "X = temperature['humidity']     # the feature variable, humidity\n",
    "y = temperature['meantemp']     # the response variable, meantemp\n",
    "\n",
    "# splitting data into training and testing sets; keeping 70% in train \n",
    "from sklearn.model_selection import train_test_split\n",
    "\n",
    "X_train, X_test, y_train, y_test = train_test_split(X, y, test_size = 0.3)\n",
    "\n",
    "print(\"X_train shape:\", X_train.shape) \n",
    "print(\"X_test shape:\", X_test.shape) \n",
    "print(\"y_train shape:\", y_train.shape) \n",
    "print(\"y_test shape:\", y_test.shape) \n"
   ]
  },
  {
   "cell_type": "markdown",
   "metadata": {},
   "source": [
    "To fit the model, the input data should be a two-dimensional array, where each row represents a sample and each column represents a feature. So, reshaping it:\n"
   ]
  },
  {
   "cell_type": "code",
   "execution_count": 153,
   "metadata": {},
   "outputs": [
    {
     "name": "stdout",
     "output_type": "stream",
     "text": [
      "X_train shape: (79, 1)\n",
      "X_test shape: (35, 1)\n",
      "y_train shape: (79,)\n",
      "y_test shape: (35,)\n"
     ]
    }
   ],
   "source": [
    "\n",
    "X_train = np.array(X_train)\n",
    "X_test = np.array(X_test)\n",
    "\n",
    "X_train = X_train.reshape(-1, 1)\n",
    "X_test = X_test.reshape(-1, 1)\n",
    "\n",
    "print(\"X_train shape:\", X_train.shape) \n",
    "print(\"X_test shape:\", X_test.shape) \n",
    "print(\"y_train shape:\", y_train.shape) \n",
    "print(\"y_test shape:\", y_test.shape) "
   ]
  },
  {
   "cell_type": "markdown",
   "metadata": {},
   "source": [
    "## Building Model\n"
   ]
  },
  {
   "cell_type": "code",
   "execution_count": 154,
   "metadata": {},
   "outputs": [
    {
     "name": "stdout",
     "output_type": "stream",
     "text": [
      "Intercept:  36.87949628338074\n",
      "Coefficient:  [-0.26885967]\n"
     ]
    }
   ],
   "source": [
    "from sklearn.linear_model import LinearRegression\n",
    "\n",
    "linreg = LinearRegression()     # create a linear regression model\n",
    "\n",
    "model = linreg.fit(X_train, y_train)     # train the model on the train set\n",
    "\n",
    "print(\"Intercept: \", model.intercept_)\n",
    "print(\"Coefficient: \", model.coef_)"
   ]
  },
  {
   "cell_type": "markdown",
   "metadata": {},
   "source": [
    "## Making Predictions"
   ]
  },
  {
   "cell_type": "code",
   "execution_count": 155,
   "metadata": {},
   "outputs": [
    {
     "data": {
      "image/png": "[encoded data removed]",
      "text/plain": [
       "<Figure size 640x480 with 1 Axes>"
      ]
     },
     "metadata": {},
     "output_type": "display_data"
    }
   ],
   "source": [
    "# predictions on test set\n",
    "y_pred = model.predict(X_test)\n",
    "\n",
    "# showing data and fitted line together \n",
    "plt.scatter(X_train, y_train)\n",
    "plt.plot(X_train, model.intercept_ + model.coef_*X_train, 'r')\n",
    "plt.show()\n",
    "\n"
   ]
  },
  {
   "cell_type": "code",
   "execution_count": 156,
   "metadata": {},
   "outputs": [
    {
     "data": {
      "text/html": [
       "<div>\n",
       "<style scoped>\n",
       "    .dataframe tbody tr th:only-of-type {\n",
       "        vertical-align: middle;\n",
       "    }\n",
       "\n",
       "    .dataframe tbody tr th {\n",
       "        vertical-align: top;\n",
       "    }\n",
       "\n",
       "    .dataframe thead th {\n",
       "        text-align: right;\n",
       "    }\n",
       "</style>\n",
       "<table border=\"1\" class=\"dataframe\">\n",
       "  <thead>\n",
       "    <tr style=\"text-align: right;\">\n",
       "      <th></th>\n",
       "      <th>Actual value</th>\n",
       "      <th>Predicted Value</th>\n",
       "    </tr>\n",
       "  </thead>\n",
       "  <tbody>\n",
       "    <tr>\n",
       "      <th>0</th>\n",
       "      <td>15.913043</td>\n",
       "      <td>13.792634</td>\n",
       "    </tr>\n",
       "    <tr>\n",
       "      <th>108</th>\n",
       "      <td>33.500000</td>\n",
       "      <td>30.393257</td>\n",
       "    </tr>\n",
       "    <tr>\n",
       "      <th>26</th>\n",
       "      <td>16.500000</td>\n",
       "      <td>16.166099</td>\n",
       "    </tr>\n",
       "    <tr>\n",
       "      <th>12</th>\n",
       "      <td>13.235294</td>\n",
       "      <td>18.850083</td>\n",
       "    </tr>\n",
       "    <tr>\n",
       "      <th>113</th>\n",
       "      <td>32.000000</td>\n",
       "      <td>29.581877</td>\n",
       "    </tr>\n",
       "    <tr>\n",
       "      <th>96</th>\n",
       "      <td>27.000000</td>\n",
       "      <td>28.847314</td>\n",
       "    </tr>\n",
       "    <tr>\n",
       "      <th>46</th>\n",
       "      <td>20.250000</td>\n",
       "      <td>21.621710</td>\n",
       "    </tr>\n",
       "    <tr>\n",
       "      <th>75</th>\n",
       "      <td>20.900000</td>\n",
       "      <td>20.828574</td>\n",
       "    </tr>\n",
       "    <tr>\n",
       "      <th>110</th>\n",
       "      <td>34.250000</td>\n",
       "      <td>26.293147</td>\n",
       "    </tr>\n",
       "    <tr>\n",
       "      <th>40</th>\n",
       "      <td>14.666667</td>\n",
       "      <td>17.581347</td>\n",
       "    </tr>\n",
       "    <tr>\n",
       "      <th>85</th>\n",
       "      <td>29.500000</td>\n",
       "      <td>26.494792</td>\n",
       "    </tr>\n",
       "    <tr>\n",
       "      <th>80</th>\n",
       "      <td>27.250000</td>\n",
       "      <td>24.780811</td>\n",
       "    </tr>\n",
       "    <tr>\n",
       "      <th>70</th>\n",
       "      <td>17.375000</td>\n",
       "      <td>21.655318</td>\n",
       "    </tr>\n",
       "    <tr>\n",
       "      <th>54</th>\n",
       "      <td>19.125000</td>\n",
       "      <td>26.024287</td>\n",
       "    </tr>\n",
       "    <tr>\n",
       "      <th>37</th>\n",
       "      <td>15.125000</td>\n",
       "      <td>19.739692</td>\n",
       "    </tr>\n",
       "    <tr>\n",
       "      <th>76</th>\n",
       "      <td>24.692308</td>\n",
       "      <td>24.429226</td>\n",
       "    </tr>\n",
       "    <tr>\n",
       "      <th>81</th>\n",
       "      <td>28.000000</td>\n",
       "      <td>23.503728</td>\n",
       "    </tr>\n",
       "    <tr>\n",
       "      <th>111</th>\n",
       "      <td>32.900000</td>\n",
       "      <td>25.883136</td>\n",
       "    </tr>\n",
       "    <tr>\n",
       "      <th>31</th>\n",
       "      <td>15.250000</td>\n",
       "      <td>15.740405</td>\n",
       "    </tr>\n",
       "    <tr>\n",
       "      <th>30</th>\n",
       "      <td>16.125000</td>\n",
       "      <td>16.446162</td>\n",
       "    </tr>\n",
       "    <tr>\n",
       "      <th>82</th>\n",
       "      <td>28.916667</td>\n",
       "      <td>26.752449</td>\n",
       "    </tr>\n",
       "    <tr>\n",
       "      <th>24</th>\n",
       "      <td>21.000000</td>\n",
       "      <td>18.070074</td>\n",
       "    </tr>\n",
       "    <tr>\n",
       "      <th>58</th>\n",
       "      <td>23.333333</td>\n",
       "      <td>22.988413</td>\n",
       "    </tr>\n",
       "    <tr>\n",
       "      <th>9</th>\n",
       "      <td>12.111111</td>\n",
       "      <td>17.536537</td>\n",
       "    </tr>\n",
       "    <tr>\n",
       "      <th>41</th>\n",
       "      <td>15.625000</td>\n",
       "      <td>19.672478</td>\n",
       "    </tr>\n",
       "    <tr>\n",
       "      <th>73</th>\n",
       "      <td>19.875000</td>\n",
       "      <td>22.159429</td>\n",
       "    </tr>\n",
       "    <tr>\n",
       "      <th>19</th>\n",
       "      <td>15.263158</td>\n",
       "      <td>19.007404</td>\n",
       "    </tr>\n",
       "    <tr>\n",
       "      <th>36</th>\n",
       "      <td>16.888889</td>\n",
       "      <td>18.148939</td>\n",
       "    </tr>\n",
       "    <tr>\n",
       "      <th>16</th>\n",
       "      <td>11.722222</td>\n",
       "      <td>14.175791</td>\n",
       "    </tr>\n",
       "    <tr>\n",
       "      <th>49</th>\n",
       "      <td>22.363636</td>\n",
       "      <td>19.110316</td>\n",
       "    </tr>\n",
       "    <tr>\n",
       "      <th>1</th>\n",
       "      <td>18.500000</td>\n",
       "      <td>16.117555</td>\n",
       "    </tr>\n",
       "    <tr>\n",
       "      <th>57</th>\n",
       "      <td>19.875000</td>\n",
       "      <td>21.184813</td>\n",
       "    </tr>\n",
       "    <tr>\n",
       "      <th>27</th>\n",
       "      <td>14.863636</td>\n",
       "      <td>14.625248</td>\n",
       "    </tr>\n",
       "    <tr>\n",
       "      <th>72</th>\n",
       "      <td>18.000000</td>\n",
       "      <td>21.733735</td>\n",
       "    </tr>\n",
       "    <tr>\n",
       "      <th>112</th>\n",
       "      <td>32.875000</td>\n",
       "      <td>29.485855</td>\n",
       "    </tr>\n",
       "  </tbody>\n",
       "</table>\n",
       "</div>"
      ],
      "text/plain": [
       "     Actual value  Predicted Value\n",
       "0       15.913043        13.792634\n",
       "108     33.500000        30.393257\n",
       "26      16.500000        16.166099\n",
       "12      13.235294        18.850083\n",
       "113     32.000000        29.581877\n",
       "96      27.000000        28.847314\n",
       "46      20.250000        21.621710\n",
       "75      20.900000        20.828574\n",
       "110     34.250000        26.293147\n",
       "40      14.666667        17.581347\n",
       "85      29.500000        26.494792\n",
       "80      27.250000        24.780811\n",
       "70      17.375000        21.655318\n",
       "54      19.125000        26.024287\n",
       "37      15.125000        19.739692\n",
       "76      24.692308        24.429226\n",
       "81      28.000000        23.503728\n",
       "111     32.900000        25.883136\n",
       "31      15.250000        15.740405\n",
       "30      16.125000        16.446162\n",
       "82      28.916667        26.752449\n",
       "24      21.000000        18.070074\n",
       "58      23.333333        22.988413\n",
       "9       12.111111        17.536537\n",
       "41      15.625000        19.672478\n",
       "73      19.875000        22.159429\n",
       "19      15.263158        19.007404\n",
       "36      16.888889        18.148939\n",
       "16      11.722222        14.175791\n",
       "49      22.363636        19.110316\n",
       "1       18.500000        16.117555\n",
       "57      19.875000        21.184813\n",
       "27      14.863636        14.625248\n",
       "72      18.000000        21.733735\n",
       "112     32.875000        29.485855"
      ]
     },
     "execution_count": 156,
     "metadata": {},
     "output_type": "execute_result"
    }
   ],
   "source": [
    "\n",
    "# Create a DataFrame from the arrays\n",
    "df = pd.DataFrame({\"Actual value\": y_test, \"Predicted Value\": y_pred})\n",
    "df\n"
   ]
  },
  {
   "cell_type": "markdown",
   "metadata": {},
   "source": [
    "## Performance metrics\n",
    "\n",
    "* mean squared error(mse): measures the average squared difference between the actual and predicted values. Lower values indicate better performance.\n",
    "\n",
    "* root mean squared error(rmse): represents the square root of the \"mse\".\n",
    "\n",
    "* mean absolute error(mae): provides a measure of the average magnitude of the errors. Lower values indicate better performance.\n",
    "\n",
    "* r-squared(r2): represents the proportion of the variance in the dependent variable that is predictable from the independent variables.\n",
    "Ranges from 0 to 1, where 1 indicates a perfect fit and 0 indicates no linear relationship between the variables.\n",
    "\n",
    "* mean absolute percentage error(mape): provides a measure of the accuracy of the model's predictions on a percentage scale. Lower values indicate better performance.\n",
    "\n",
    "* max error: provides insight into the worst-case performance of the model."
   ]
  },
  {
   "cell_type": "code",
   "execution_count": 157,
   "metadata": {},
   "outputs": [
    {
     "name": "stdout",
     "output_type": "stream",
     "text": [
      "mse: 12.299\n",
      "rmse: 3.507\n",
      "mae: 2.874\n",
      "r-squared: 0.725\n",
      "mape: %14.586\n",
      "max error: 7.957\n"
     ]
    }
   ],
   "source": [
    "\n",
    "from sklearn.metrics import  mean_squared_error, mean_absolute_error, r2_score, mean_absolute_percentage_error, max_error\n",
    "\n",
    "mse = mean_squared_error(y_test, y_pred)\n",
    "\n",
    "print(f\"mse: {mse:.3f}\")\n",
    "print(f\"rmse: {np.sqrt(mse):.3f}\")\n",
    "print(f\"mae: {mean_absolute_error(y_test, y_pred):.3f}\")\n",
    "print(f\"r-squared: {r2_score(y_test, y_pred):.3f}\")\n",
    "print(f\"mape: %{100*mean_absolute_percentage_error(y_test, y_pred):.3f}\")\n",
    "print(f\"max error: {max_error(y_test, y_pred):.3f}\")\n",
    "\n"
   ]
  },
  {
   "cell_type": "markdown",
   "metadata": {},
   "source": [
    "## Conclusion\n",
    "\n",
    "In summary, the performance metrics suggest that the model's fit to the data might not be optimal. The mse, rmse, and mape values imply discrepancies in the predictions, while the r-squared value indicates that the model might not fully account for the variability in the data. Further examination and potential adjustments to the model may be required to enhance its predictive performance.\n"
   ]
  }
 ],
 "metadata": {
  "kernelspec": {
   "display_name": "Python 3",
   "language": "python",
   "name": "python3"
  },
  "language_info": {
   "codemirror_mode": {
    "name": "ipython",
    "version": 3
   },
   "file_extension": ".py",
   "mimetype": "text/x-python",
   "name": "python",
   "nbconvert_exporter": "python",
   "pygments_lexer": "ipython3",
   "version": "3.9.1"
  }
 },
 "nbformat": 4,
 "nbformat_minor": 2
}
